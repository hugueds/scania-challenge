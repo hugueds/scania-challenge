{
 "cells": [
  {
   "cell_type": "markdown",
   "metadata": {},
   "source": [
    "# CHALLENGE NO 2\n",
    "## ANOMALY DETECTION\n",
    "\n",
    "Scania AXL, a fully autonomous concept truck, without a cab\n",
    "\n",
    "For autonomous vehicles, software is in many ways more important than hardware. Scania AXL is steered and monitored by an intelligent control environment. In mines, for example, the autonomous operations are facilitated by a logistics system that tells the vehicle how it should perform. \n",
    "\n",
    "### PROBLEM\n",
    "Build a simple anomaly detection algorithm and report the number of anomalies detected within the data provided. A data point is considered an anomaly if it deviates from the mean by more than two standard deviations. The mean and standard deviation are computed over 21 points centered on the point in question. Exclude any anomaly detected before index 10 and after index 990.\n",
    "\n",
    "### DATA\n",
    "The file data.txt contains sensor data from a sensor on a Scania truck gathered over 1000 time points. Each line of the file contains a floating point value, the output of the sensor.\n",
    "\n",
    "### ANSWER\n",
    "The correct answer is number of anomalies."
   ]
  },
  {
   "cell_type": "code",
   "execution_count": 55,
   "metadata": {},
   "outputs": [],
   "source": [
    "import matplotlib.pyplot as plt\n",
    "import numpy as np \n",
    "import pandas as pd\n",
    "import seaborn as sns\n",
    "sns.set()"
   ]
  },
  {
   "cell_type": "code",
   "execution_count": 56,
   "metadata": {},
   "outputs": [
    {
     "data": {
      "text/html": [
       "<div>\n",
       "<style scoped>\n",
       "    .dataframe tbody tr th:only-of-type {\n",
       "        vertical-align: middle;\n",
       "    }\n",
       "\n",
       "    .dataframe tbody tr th {\n",
       "        vertical-align: top;\n",
       "    }\n",
       "\n",
       "    .dataframe thead th {\n",
       "        text-align: right;\n",
       "    }\n",
       "</style>\n",
       "<table border=\"1\" class=\"dataframe\">\n",
       "  <thead>\n",
       "    <tr style=\"text-align: right;\">\n",
       "      <th></th>\n",
       "      <th>0</th>\n",
       "    </tr>\n",
       "  </thead>\n",
       "  <tbody>\n",
       "    <tr>\n",
       "      <td>0</td>\n",
       "      <td>9.014394</td>\n",
       "    </tr>\n",
       "    <tr>\n",
       "      <td>1</td>\n",
       "      <td>10.179419</td>\n",
       "    </tr>\n",
       "    <tr>\n",
       "      <td>2</td>\n",
       "      <td>10.200627</td>\n",
       "    </tr>\n",
       "    <tr>\n",
       "      <td>3</td>\n",
       "      <td>10.261668</td>\n",
       "    </tr>\n",
       "    <tr>\n",
       "      <td>4</td>\n",
       "      <td>10.159710</td>\n",
       "    </tr>\n",
       "  </tbody>\n",
       "</table>\n",
       "</div>"
      ],
      "text/plain": [
       "           0\n",
       "0   9.014394\n",
       "1  10.179419\n",
       "2  10.200627\n",
       "3  10.261668\n",
       "4  10.159710"
      ]
     },
     "execution_count": 56,
     "metadata": {},
     "output_type": "execute_result"
    }
   ],
   "source": [
    "raw = pd.read_csv('sensor_data.txt', sep='\\n', header=None)\n",
    "raw.head()"
   ]
  },
  {
   "cell_type": "code",
   "execution_count": 10,
   "metadata": {},
   "outputs": [
    {
     "data": {
      "text/html": [
       "<div>\n",
       "<style scoped>\n",
       "    .dataframe tbody tr th:only-of-type {\n",
       "        vertical-align: middle;\n",
       "    }\n",
       "\n",
       "    .dataframe tbody tr th {\n",
       "        vertical-align: top;\n",
       "    }\n",
       "\n",
       "    .dataframe thead th {\n",
       "        text-align: right;\n",
       "    }\n",
       "</style>\n",
       "<table border=\"1\" class=\"dataframe\">\n",
       "  <thead>\n",
       "    <tr style=\"text-align: right;\">\n",
       "      <th></th>\n",
       "      <th>count</th>\n",
       "      <th>mean</th>\n",
       "      <th>std</th>\n",
       "      <th>min</th>\n",
       "      <th>25%</th>\n",
       "      <th>50%</th>\n",
       "      <th>75%</th>\n",
       "      <th>max</th>\n",
       "    </tr>\n",
       "  </thead>\n",
       "  <tbody>\n",
       "    <tr>\n",
       "      <td>0</td>\n",
       "      <td>1000.0</td>\n",
       "      <td>10.003592</td>\n",
       "      <td>0.507029</td>\n",
       "      <td>8.154124</td>\n",
       "      <td>9.647087</td>\n",
       "      <td>9.996053</td>\n",
       "      <td>10.340537</td>\n",
       "      <td>11.473668</td>\n",
       "    </tr>\n",
       "  </tbody>\n",
       "</table>\n",
       "</div>"
      ],
      "text/plain": [
       "    count       mean       std       min       25%       50%        75%  \\\n",
       "0  1000.0  10.003592  0.507029  8.154124  9.647087  9.996053  10.340537   \n",
       "\n",
       "         max  \n",
       "0  11.473668  "
      ]
     },
     "execution_count": 10,
     "metadata": {},
     "output_type": "execute_result"
    }
   ],
   "source": [
    "raw.describe().T"
   ]
  },
  {
   "cell_type": "code",
   "execution_count": 11,
   "metadata": {},
   "outputs": [],
   "source": [
    "values = raw[0].values"
   ]
  },
  {
   "cell_type": "code",
   "execution_count": 58,
   "metadata": {},
   "outputs": [
    {
     "data": {
      "text/plain": [
       "(array([ 1.,  0.,  0.,  1.,  0.,  0.,  1.,  0.,  3.,  3.,  2.,  6.,  4.,\n",
       "         9., 11., 17., 18., 16., 23., 32., 34., 53., 36., 43., 57., 44.,\n",
       "        42., 62., 41., 51., 61., 41., 41., 35., 38., 21., 30., 25., 20.,\n",
       "        17., 16.,  9.,  8.,  9.,  9.,  1.,  3.,  2.,  2.,  2.]),\n",
       " array([ 8.15412364,  8.22051452,  8.2869054 ,  8.35329628,  8.41968716,\n",
       "         8.48607804,  8.55246892,  8.6188598 ,  8.68525068,  8.75164156,\n",
       "         8.81803244,  8.88442332,  8.9508142 ,  9.01720508,  9.08359596,\n",
       "         9.14998684,  9.21637772,  9.2827686 ,  9.34915948,  9.41555036,\n",
       "         9.48194124,  9.54833212,  9.614723  ,  9.68111388,  9.74750476,\n",
       "         9.81389564,  9.88028652,  9.9466774 , 10.01306828, 10.07945916,\n",
       "        10.14585004, 10.21224092, 10.2786318 , 10.34502268, 10.41141356,\n",
       "        10.47780444, 10.54419532, 10.6105862 , 10.67697708, 10.74336796,\n",
       "        10.80975884, 10.87614972, 10.9425406 , 11.00893148, 11.07532236,\n",
       "        11.14171324, 11.20810412, 11.274495  , 11.34088588, 11.40727676,\n",
       "        11.47366764]),\n",
       " <a list of 50 Patch objects>)"
      ]
     },
     "execution_count": 58,
     "metadata": {},
     "output_type": "execute_result"
    },
    {
     "data": {
      "image/png": "[encoded data removed]",
      "text/plain": [
       "<Figure size 432x288 with 1 Axes>"
      ]
     },
     "metadata": {},
     "output_type": "display_data"
    }
   ],
   "source": [
    "plt.hist(values, bins=50)"
   ]
  },
  {
   "cell_type": "code",
   "execution_count": 32,
   "metadata": {},
   "outputs": [
    {
     "name": "stdout",
     "output_type": "stream",
     "text": [
      "MEAN 9.982211708782593\n",
      "STD DV 0.535853144428626\n"
     ]
    }
   ],
   "source": [
    "mid_21 = raw.values[489:510]\n",
    "print(f'MEAN {mid_21.mean()}')\n",
    "print(f'STD DV {mid_21.std()}')"
   ]
  },
  {
   "cell_type": "code",
   "execution_count": 57,
   "metadata": {},
   "outputs": [
    {
     "name": "stdout",
     "output_type": "stream",
     "text": [
      "36\n"
     ]
    }
   ],
   "source": [
    "size = len(raw.values) - 1\n",
    "counter = 0\n",
    "for i in range(size):\n",
    "    if raw.values[i] <= (mid_21.mean() - 2 * mid_21.std()) or raw.values[i] >= (mid_21.mean() + 2 * mid_21.std()):\n",
    "        counter += 1        \n",
    "print(counter)"
   ]
  },
  {
   "cell_type": "code",
   "execution_count": null,
   "metadata": {},
   "outputs": [],
   "source": []
  }
 ],
 "metadata": {
  "kernelspec": {
   "display_name": "Python 3",
   "language": "python",
   "name": "python3"
  },
  "language_info": {
   "codemirror_mode": {
    "name": "ipython",
    "version": 3
   },
   "file_extension": ".py",
   "mimetype": "text/x-python",
   "name": "python",
   "nbconvert_exporter": "python",
   "pygments_lexer": "ipython3",
   "version": "3.7.4"
  }
 },
 "nbformat": 4,
 "nbformat_minor": 4
}
