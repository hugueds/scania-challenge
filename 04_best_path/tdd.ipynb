{
 "cells": [
  {
   "cell_type": "markdown",
   "metadata": {},
   "source": [
    "# CHALLENGE NO 4\n",
    "## SHORTEST DISTANCE TRAVELLED\n",
    "\n",
    "### BACKGROUND\n",
    "To get the final clue you will need to solve a classic problem. Imagine you are a truck owner and you have goods to deliver to different cities and then returning home again. To minimise cost and fuel consumption you strive to visit all of the cities using the shortest total travel distance. This means finding a visitation order of all cities that minimise the total distance travelled.\n",
    "\n",
    "### DATA\n",
    "The data consists of 51 rows. Each row represents a coordinate (x,y) where there is a city to visit. download ttd.txt\n",
    "\n",
    "### ANSWER\n",
    "The correct answer is the shortest distance (rounded to a whole number) travelled while visiting all 51 cities and returning to starting city."
   ]
  },
  {
   "cell_type": "code",
   "execution_count": 1,
   "metadata": {},
   "outputs": [],
   "source": [
    "import matplotlib.pyplot as plt\n",
    "import numpy as np \n",
    "import pandas as pd\n",
    "import seaborn as sns\n",
    "import math\n",
    "sns.set()"
   ]
  },
  {
   "cell_type": "code",
   "execution_count": 2,
   "metadata": {},
   "outputs": [],
   "source": [
    "raw = pd.read_csv('ttd.txt', sep=' ', header=None)"
   ]
  },
  {
   "cell_type": "code",
   "execution_count": 3,
   "metadata": {},
   "outputs": [],
   "source": [
    "raw.columns = ['x', 'y']"
   ]
  },
  {
   "cell_type": "code",
   "execution_count": 4,
   "metadata": {},
   "outputs": [
    {
     "name": "stdout",
     "output_type": "stream",
     "text": [
      "    x   y\n",
      "0  27  68\n",
      "1  30  48\n",
      "2  43  67\n",
      "3  57  48\n",
      "4  58  27\n"
     ]
    },
    {
     "data": {
      "text/plain": [
       "<matplotlib.axes._subplots.AxesSubplot at 0x1c8e9ef9348>"
      ]
     },
     "execution_count": 4,
     "metadata": {},
     "output_type": "execute_result"
    },
    {
     "data": {
      "image/png": "[encoded data removed]",
      "text/plain": [
       "<Figure size 432x288 with 1 Axes>"
      ]
     },
     "metadata": {
      "needs_background": "light"
     },
     "output_type": "display_data"
    }
   ],
   "source": [
    "print(raw[:5])\n",
    "sns.scatterplot(x=raw['x'], y=raw['y'])"
   ]
  },
  {
   "cell_type": "code",
   "execution_count": 15,
   "metadata": {},
   "outputs": [],
   "source": [
    "def euclidian(a, b):\n",
    "    return (pow( pow(a[0]-b[0],2) + pow(a[1]-b[1],2)  , .5))"
   ]
  },
  {
   "cell_type": "code",
   "execution_count": 16,
   "metadata": {},
   "outputs": [],
   "source": [
    "size = raw['x'].size\n",
    "distance_matrix = []\n",
    "matrix = []\n",
    "for i in range(size):\n",
    "    for j in range(size):        \n",
    "        result = euclidian(raw.values[i].tolist(), raw.values[j].tolist())        \n",
    "        matrix.append(result)\n",
    "    distance_matrix.append(matrix)\n",
    "    matrix = []"
   ]
  },
  {
   "cell_type": "code",
   "execution_count": 17,
   "metadata": {},
   "outputs": [
    {
     "name": "stdout",
     "output_type": "stream",
     "text": [
      "(428.5484433161642, [0, 33, 47, 26, 6, 36, 12, 30, 11, 42, 29, 43, 21, 37, 20, 25, 1, 31, 22, 48, 32, 17, 49, 39, 50, 38, 15, 44, 14, 16, 18, 40, 19, 7, 13, 35, 23, 34, 4, 8, 24, 41, 46, 3, 27, 45, 9, 10, 28, 2, 5])\n"
     ]
    }
   ],
   "source": [
    "import tsp\n",
    "\n",
    "r = range(len(distance_matrix))\n",
    "\n",
    "spath = { (i,j) : distance_matrix[i][j] for i in r for j in r }\n",
    "\n",
    "print(tsp.tsp(r, spath))"
   ]
  },
  {
   "cell_type": "code",
   "execution_count": 8,
   "metadata": {},
   "outputs": [
    {
     "name": "stdout",
     "output_type": "stream",
     "text": [
      "Objective: 445 miles\n",
      "Route for vehicle 0:\n",
      " 5 -> 2 -> 28 -> 10 -> 9 -> 45 -> 47 -> 26 -> 6 -> 36 -> 20 -> 25 -> 1 -> 22 -> 31 -> 43 -> 21 -> 37 -> 30 -> 12 -> 23 -> 34 -> 24 -> 41 -> 27 -> 3 -> 46 -> 8 -> 4 -> 35 -> 13 -> 7 -> 19 -> 40 -> 18 -> 11 -> 42 -> 29 -> 15 -> 44 -> 16 -> 14 -> 38 -> 50 -> 39 -> 49 -> 17 -> 48 -> 32 -> 0 -> 33 -> 5\n",
      "\n"
     ]
    }
   ],
   "source": [
    "\n",
    "\n",
    "def create_data_model():\n",
    "    \"\"\"Stores the data for the problem.\"\"\"\n",
    "    data = {}\n",
    "    data['distance_matrix'] = distance_matrix\n",
    "    data['num_vehicles'] = 1\n",
    "    data['depot'] = 5\n",
    "    return data\n",
    "\n",
    "data = create_data_model()\n",
    "\n",
    "from ortools.constraint_solver import pywrapcp\n",
    "from ortools.constraint_solver import routing_enums_pb2\n",
    "\n",
    "\n",
    "manager = pywrapcp.RoutingIndexManager(len(data['distance_matrix']),\n",
    "                                       data['num_vehicles'], data['depot'])\n",
    "routing = pywrapcp.RoutingModel(manager)\n",
    "\n",
    "def distance_callback(from_index, to_index):\n",
    "    \"\"\"Returns the distance between the two nodes.\"\"\"\n",
    "    # Convert from routing variable Index to distance matrix NodeIndex.\n",
    "    from_node = manager.IndexToNode(from_index)\n",
    "    to_node = manager.IndexToNode(to_index)\n",
    "    return data['distance_matrix'][from_node][to_node]\n",
    "\n",
    "transit_callback_index = routing.RegisterTransitCallback(distance_callback)\n",
    "\n",
    "routing.SetArcCostEvaluatorOfAllVehicles(transit_callback_index)\n",
    "\n",
    "search_parameters = pywrapcp.DefaultRoutingSearchParameters()\n",
    "search_parameters.first_solution_strategy = (\n",
    "    routing_enums_pb2.FirstSolutionStrategy.PATH_CHEAPEST_ARC)\n",
    "\n",
    "def print_solution(manager, routing, solution):\n",
    "  \"\"\"Prints solution on console.\"\"\"\n",
    "  print('Objective: {} miles'.format(solution.ObjectiveValue()))\n",
    "  index = routing.Start(0)\n",
    "  plan_output = 'Route for vehicle 0:\\n'\n",
    "  route_distance = 0\n",
    "  while not routing.IsEnd(index):\n",
    "    plan_output += ' {} ->'.format(manager.IndexToNode(index))\n",
    "    previous_index = index\n",
    "    index = solution.Value(routing.NextVar(index))\n",
    "    route_distance += routing.GetArcCostForVehicle(previous_index, index, 0)\n",
    "  plan_output += ' {}\\n'.format(manager.IndexToNode(index))\n",
    "  print(plan_output)\n",
    "  plan_output += 'Route distance: {}miles\\n'.format(route_distance)\n",
    "\n",
    "solution = routing.SolveWithParameters(search_parameters)\n",
    "solution\n",
    "if solution:\n",
    "    print_solution(manager, routing, solution)"
   ]
  },
  {
   "cell_type": "code",
   "execution_count": null,
   "metadata": {},
   "outputs": [],
   "source": []
  }
 ],
 "metadata": {
  "kernelspec": {
   "display_name": "Python 3",
   "language": "python",
   "name": "python3"
  },
  "language_info": {
   "codemirror_mode": {
    "name": "ipython",
    "version": 3
   },
   "file_extension": ".py",
   "mimetype": "text/x-python",
   "name": "python",
   "nbconvert_exporter": "python",
   "pygments_lexer": "ipython3",
   "version": "3.7.4"
  }
 },
 "nbformat": 4,
 "nbformat_minor": 4
}
